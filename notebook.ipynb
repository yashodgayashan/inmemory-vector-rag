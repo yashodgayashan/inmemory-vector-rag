{
 "cells": [
  {
   "cell_type": "code",
   "execution_count": 31,
   "metadata": {},
   "outputs": [],
   "source": [
    "# import langchain olama\n",
    "from langchain_community.llms import Ollama\n",
    "from langchain_community.embeddings import OllamaEmbeddings\n",
    "\n",
    "MODEL = \"llama3\"\n",
    "model = Ollama(model=MODEL)\n",
    "# embedding is specific to the model \n",
    "embeddings = OllamaEmbeddings(model=MODEL)"
   ]
  },
  {
   "cell_type": "code",
   "execution_count": 33,
   "metadata": {},
   "outputs": [],
   "source": [
    "from langchain_community.document_loaders import PyPDFLoader\n",
    "\n",
    "pdf_files = [\"choreo.pdf\", \"choreo_2.pdf\", \"choreo_3.pdf\"]\n",
    "\n",
    "pages = []\n",
    "for pdf_file in pdf_files:\n",
    "    loader = PyPDFLoader(pdf_file)\n",
    "    data = loader.load_and_split()\n",
    "    pages.extend(data)\n"
   ]
  },
  {
   "cell_type": "code",
   "execution_count": 35,
   "metadata": {},
   "outputs": [
    {
     "data": {
      "text/plain": [
       "'\\nAnswer the question based on the context below. If you can\\'t \\nfind the answer, just say \"I don\\'t know\".\\n\\nContext: here is some context\\n\\nQuestion: Here is a question\\n'"
      ]
     },
     "execution_count": 35,
     "metadata": {},
     "output_type": "execute_result"
    }
   ],
   "source": [
    "from langchain.prompts import PromptTemplate\n",
    "\n",
    "template = \"\"\"\n",
    "Answer the question based on the context below. If you can't \n",
    "find the answer, just say \"I don't know\".\n",
    "\n",
    "Context: {context}\n",
    "\n",
    "Question: {question}\n",
    "\"\"\"\n",
    "\n",
    "prompt = PromptTemplate.from_template(template)\n",
    "prompt.format(context=\"here is some context\", question=\"Here is a question\")\n",
    "\n"
   ]
  },
  {
   "cell_type": "code",
   "execution_count": 36,
   "metadata": {},
   "outputs": [],
   "source": [
    "from langchain_community.vectorstores import DocArrayInMemorySearch\n",
    "\n",
    "vectorstore = DocArrayInMemorySearch.from_documents(pages, embedding=embeddings)\n",
    "retriever = vectorstore.as_retriever()"
   ]
  },
  {
   "cell_type": "code",
   "execution_count": 37,
   "metadata": {},
   "outputs": [
    {
     "data": {
      "text/plain": [
       "[Document(page_content='07/06/2024, 09:15 Choreo - Stop Building Platforms. Just Add Developers Instead.\\nhttps://wso2.com/choreo/ 9/9', metadata={'source': 'choreo_2.pdf', 'page': 8}),\n",
       " Document(page_content='We built Choreo so you don’t have to.\\nGet Started Free\\nContact Us\\nQuote sign5\\nHere’s What Our Users Say\\nOur users are here to stay! Try it out for yourself and give us feedback on our\\nDISCORD\\n07/06/2024, 09:15 Choreo - Stop Building Platforms. Just Add Developers Instead.\\nhttps://wso2.com/choreo/ 4/9', metadata={'source': 'choreo_2.pdf', 'page': 3}),\n",
       " Document(page_content='Multi-Environment CI/CD\\nTreat any API as code and CI/CD to your heart’s content across multiple deployment environments. Integrate\\nverification, testing, or documentation systems to the build.\\nMulti-Cloud and Regions\\nDeploy your APIs across clouds (Azure, AWS, GCP, your own Kubernetes) in any region of choice.\\nAPI Sandbox\\nFacilitate developer adoption with a sandbox endpoint for your APIs for experimentation.\\nAdvanced API Access Control\\n07/06/2024, 09:18 Choreo for API Management\\nhttps://wso2.com/choreo/api-management/ 3/10', metadata={'source': 'choreo_3.pdf', 'page': 2}),\n",
       " Document(page_content='Quote\\nsign9\\nChoreo connects IIIT research institutes across India via one API gateway so that\\nnonprofits can access APIs to applications and services from a central location. IIIT\\nalso uses analytics features to monitor API usage and automates API documentation\\nvia Choreo.\\nKhoushik Ananth\\nLead Engineer, IIIT Hyderabad\\nSecurity and Compliance\\nAt WSO2, we give you peace of mind that our cloud deployments adhere to industry standards and best practices for\\ndata protection and a secure app development experience.\\nSee how WSO2 handles Security and Compliance.\\nCertification:\\nSOC 2 Type 2®\\nRegulatory compliance\\nSecurity\\nData protection\\nLearn More\\n07/06/2024, 09:15 Choreo - Stop Building Platforms. Just Add Developers Instead.\\nhttps://wso2.com/choreo/ 6/9', metadata={'source': 'choreo_2.pdf', 'page': 5})]"
      ]
     },
     "execution_count": 37,
     "metadata": {},
     "output_type": "execute_result"
    }
   ],
   "source": [
    "retriever.invoke(\"what is choreo \")"
   ]
  },
  {
   "cell_type": "code",
   "execution_count": 40,
   "metadata": {},
   "outputs": [
    {
     "data": {
      "text/plain": [
       "'Based on the context, it appears that Choreo is a platform or tool for building and managing APIs. It allows users to create managed, secured, proxy APIs for their existing private or SaaS backend services, and provides features such as GitHub integration, multiple environments, and cloud/region support. Additionally, Choreo has a quote on its page that says \"We built Choreo so you don’t have to.\" This suggests that Choreo is designed to simplify the process of building APIs for developers.'"
      ]
     },
     "execution_count": 40,
     "metadata": {},
     "output_type": "execute_result"
    }
   ],
   "source": [
    "from operator import itemgetter\n",
    "\n",
    "agent = (\n",
    "  {\"question\": itemgetter(\"question\"), \"context\": itemgetter(\"question\") | retriever}\n",
    "  | prompt\n",
    "  | model\n",
    ")\n",
    "\n",
    "chain.invoke({\"question\": \"What is choreo?\"})"
   ]
  }
 ],
 "metadata": {
  "kernelspec": {
   "display_name": ".venv",
   "language": "python",
   "name": "python3"
  },
  "language_info": {
   "codemirror_mode": {
    "name": "ipython",
    "version": 3
   },
   "file_extension": ".py",
   "mimetype": "text/x-python",
   "name": "python",
   "nbconvert_exporter": "python",
   "pygments_lexer": "ipython3",
   "version": "3.11.4"
  },
  "orig_nbformat": 4
 },
 "nbformat": 4,
 "nbformat_minor": 2
}
